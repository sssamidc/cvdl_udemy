{
 "cells": [
  {
   "cell_type": "code",
   "execution_count": null,
   "id": "6845fd16-32a2-41f3-b7d4-1102bd859501",
   "metadata": {},
   "outputs": [],
   "source": [
    "import cv2\n",
    "import numpy as np\n",
    "import matplotlib.pyplot as plt\n",
    "%matplotlib inline"
   ]
  },
  {
   "cell_type": "code",
   "execution_count": null,
   "id": "a1b12b9b-0feb-44a7-a797-99e9ae69f17e",
   "metadata": {},
   "outputs": [],
   "source": [
    "# Load the image with in-place blurring\n",
    "def load_img():\n",
    "    img = cv2.imread('../DATA/bricks.jpg').astype(np.float32) / 255\n",
    "    img = cv2.cvtColor(img, cv2.COLOR_BGR2RGB)\n",
    "    return img"
   ]
  },
  {
   "cell_type": "code",
   "execution_count": null,
   "id": "c5a6a5c7-ed0c-4e67-a0b8-29c92c394875",
   "metadata": {},
   "outputs": [],
   "source": [
    "# Display image\n",
    "def display_img(img):\n",
    "    fig = plt.figure(figsize=(12,10))\n",
    "    ax = fig.add_subplot(111)\n",
    "    ax.imshow(img)"
   ]
  },
  {
   "cell_type": "code",
   "execution_count": null,
   "id": "0f76a4e2-a5b1-4fae-8bf2-abb148422f70",
   "metadata": {},
   "outputs": [],
   "source": [
    "# Testing\n",
    "my_img = load_img()\n",
    "display_img(my_img)\n",
    "plt.show()"
   ]
  },
  {
   "cell_type": "markdown",
   "id": "a8ef4885-3b7d-447c-82dc-a808a27030f6",
   "metadata": {},
   "source": [
    "### Gamma Correction"
   ]
  },
  {
   "cell_type": "code",
   "execution_count": null,
   "id": "6086ab54-45bd-425b-b8a2-82272a8063a4",
   "metadata": {},
   "outputs": [],
   "source": [
    "# gamma = 1/4\n",
    "gamma = 4\n",
    "res = np.power(my_img,gamma)\n",
    "display_img(res)\n",
    "plt.show()"
   ]
  },
  {
   "cell_type": "markdown",
   "id": "be05e648-2b3a-4968-9b57-31c9d6e45ea6",
   "metadata": {},
   "source": [
    "### Blurring"
   ]
  },
  {
   "cell_type": "code",
   "execution_count": null,
   "id": "33016c50-f68e-4b25-9af4-0bdef3006bec",
   "metadata": {},
   "outputs": [],
   "source": [
    "img = load_img()\n",
    "font = cv2.FONT_HERSHEY_COMPLEX\n",
    "cv2.putText(img,text='bricks',org=(10,600),fontFace=font,fontScale=10,color=(255,0,0),thickness=4)\n",
    "display_img(img)\n",
    "plt.show()"
   ]
  }
 ],
 "metadata": {
  "kernelspec": {
   "display_name": "Python 3 (ipykernel)",
   "language": "python",
   "name": "python3"
  },
  "language_info": {
   "codemirror_mode": {
    "name": "ipython",
    "version": 3
   },
   "file_extension": ".py",
   "mimetype": "text/x-python",
   "name": "python",
   "nbconvert_exporter": "python",
   "pygments_lexer": "ipython3",
   "version": "3.11.5"
  }
 },
 "nbformat": 4,
 "nbformat_minor": 5
}
