{
 "cells": [
  {
   "cell_type": "markdown",
   "id": "679fcabf-49d2-4736-917b-b1d204939ec6",
   "metadata": {},
   "source": [
    "# 04 - Gradients"
   ]
  },
  {
   "cell_type": "code",
   "execution_count": null,
   "id": "f6331e5d-febc-4df9-8fe6-275158ebad89",
   "metadata": {},
   "outputs": [],
   "source": [
    "import cv2\n",
    "import numpy as np\n",
    "import matplotlib.pyplot as plt\n",
    "%matplotlib inline"
   ]
  },
  {
   "cell_type": "code",
   "execution_count": null,
   "id": "0db8afec-c446-4b78-8afb-471656acd234",
   "metadata": {},
   "outputs": [],
   "source": [
    "# Display image function\n",
    "def display_img(img):\n",
    "    fig = plt.figure(figsize=(12,10))\n",
    "    ax = fig.add_subplot(111)\n",
    "    ax.imshow(img,cmap='gray')\n",
    "    plt.show()"
   ]
  },
  {
   "cell_type": "code",
   "execution_count": null,
   "id": "f9277aa7-f45c-40cb-bbbb-6c89b2beda12",
   "metadata": {
    "scrolled": true
   },
   "outputs": [],
   "source": [
    "img = cv2.imread('../DATA/sudoku.jpg', 0)\n",
    "display_img(img)"
   ]
  },
  {
   "cell_type": "code",
   "execution_count": null,
   "id": "147327b9-14e4-4408-b958-dea898f08e2a",
   "metadata": {},
   "outputs": [],
   "source": [
    "# Perform Sobel Operations\n",
    "sobelx = cv2.Sobel(img,cv2.CV_64F,1,0,ksize=5)"
   ]
  },
  {
   "cell_type": "code",
   "execution_count": null,
   "id": "fc3afc74-7be5-4b7e-9c08-8126c03eaa6b",
   "metadata": {
    "scrolled": true
   },
   "outputs": [],
   "source": [
    "# Display result\n",
    "display_img(sobelx)"
   ]
  },
  {
   "cell_type": "code",
   "execution_count": null,
   "id": "784f4e44-153e-4ee3-b680-d15eac5a7ef8",
   "metadata": {},
   "outputs": [],
   "source": [
    "# Try out the Y gradient\n",
    "sobely = cv2.Sobel(img,cv2.CV_64F,0,1,ksize=5)"
   ]
  },
  {
   "cell_type": "code",
   "execution_count": null,
   "id": "888dca4a-1b63-4f15-a78a-80079d392dba",
   "metadata": {
    "scrolled": true
   },
   "outputs": [],
   "source": [
    "display_img(sobely)"
   ]
  },
  {
   "cell_type": "code",
   "execution_count": null,
   "id": "b3743aeb-fe78-4b37-be7d-a508720e9447",
   "metadata": {},
   "outputs": [],
   "source": [
    "# Laplacian Derivative\n",
    "laplacian = cv2.Laplacian(img,cv2.CV_64F)"
   ]
  },
  {
   "cell_type": "code",
   "execution_count": null,
   "id": "6195c8f1-9dc3-4394-a324-7efd879a370f",
   "metadata": {
    "scrolled": true
   },
   "outputs": [],
   "source": [
    "display_img(laplacian)"
   ]
  },
  {
   "cell_type": "code",
   "execution_count": null,
   "id": "3134eba7-e895-4912-b7cd-65fb827bfe1a",
   "metadata": {},
   "outputs": [],
   "source": [
    "# Blend sobelx and sobely\n",
    "blended = cv2.addWeighted(src1=sobelx,alpha=0.5,src2=sobely,beta=0.5,gamma=0)"
   ]
  },
  {
   "cell_type": "code",
   "execution_count": null,
   "id": "4b8a96cc-0f8f-4afa-9532-6614a405dc82",
   "metadata": {
    "scrolled": true
   },
   "outputs": [],
   "source": [
    "# Display the blended image\n",
    "display_img(blended)"
   ]
  },
  {
   "cell_type": "code",
   "execution_count": null,
   "id": "330565e0-74bb-4fe9-a392-901947b001a9",
   "metadata": {
    "scrolled": true
   },
   "outputs": [],
   "source": [
    "# Thresholding\n",
    "ret,th1 = cv2.threshold(img,100,255,cv2.THRESH_BINARY)\n",
    "display_img(th1)"
   ]
  },
  {
   "cell_type": "code",
   "execution_count": null,
   "id": "ad9993c4-4b6a-4349-8eb9-053f460cb0e6",
   "metadata": {},
   "outputs": [],
   "source": [
    "# Morphological operation\n",
    "kernel = np.ones((4,4),np.uint8)\n",
    "gradient = cv2.morphologyEx(blended,cv2.MORPH_GRADIENT,kernel)"
   ]
  },
  {
   "cell_type": "code",
   "execution_count": null,
   "id": "6b65d1a6-6457-4bf9-bd08-3c27c1bdfa90",
   "metadata": {},
   "outputs": [],
   "source": [
    "# Display image\n",
    "display_img(gradient)"
   ]
  }
 ],
 "metadata": {
  "kernelspec": {
   "display_name": "Python 3 (ipykernel)",
   "language": "python",
   "name": "python3"
  },
  "language_info": {
   "codemirror_mode": {
    "name": "ipython",
    "version": 3
   },
   "file_extension": ".py",
   "mimetype": "text/x-python",
   "name": "python",
   "nbconvert_exporter": "python",
   "pygments_lexer": "ipython3",
   "version": "3.11.5"
  }
 },
 "nbformat": 4,
 "nbformat_minor": 5
}
