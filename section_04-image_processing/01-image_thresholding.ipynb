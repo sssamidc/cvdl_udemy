{
 "cells": [
  {
   "cell_type": "code",
   "execution_count": null,
   "id": "e726e438-1021-4a87-a930-56a653934e91",
   "metadata": {},
   "outputs": [],
   "source": [
    "# imports\n",
    "import cv2\n",
    "import matplotlib.pyplot as plt\n",
    "%matplotlib inline"
   ]
  },
  {
   "cell_type": "code",
   "execution_count": null,
   "id": "e0a95e74-8286-4dcf-9776-39f360a7aecb",
   "metadata": {},
   "outputs": [],
   "source": [
    "# Read the `rainbow` image\n",
    "img = cv2.imread('../DATA/rainbow.jpg')"
   ]
  },
  {
   "cell_type": "code",
   "execution_count": null,
   "id": "b16e83d4-d0a8-438d-8409-c74551d48f8e",
   "metadata": {},
   "outputs": [],
   "source": [
    "# Display the image\n",
    "plt.imshow(img)\n",
    "plt.show()"
   ]
  },
  {
   "cell_type": "code",
   "execution_count": null,
   "id": "6411d112-ab5a-4c9b-8508-b7a6e4c98aae",
   "metadata": {},
   "outputs": [],
   "source": [
    "# Read in the image as greyscale (color component being 0)\n",
    "img = cv2.imread('../DATA/rainbow.jpg', 0)\n",
    "# Display the image in grayscale\n",
    "plt.imshow(img, cmap='gray')\n",
    "plt.show()"
   ]
  },
  {
   "cell_type": "code",
   "execution_count": null,
   "id": "c2de2550-fa08-43e9-ba71-937de1bf1316",
   "metadata": {},
   "outputs": [],
   "source": [
    "# Let's introduce image thresholding\n",
    "ret, thres1 = cv2.threshold(img, 127, 255, cv2.THRESH_BINARY)"
   ]
  },
  {
   "cell_type": "code",
   "execution_count": null,
   "id": "b15483ca-a15c-492d-9182-c389170ec32d",
   "metadata": {},
   "outputs": [],
   "source": [
    "# Let's unpack the tuple\n",
    "ret"
   ]
  },
  {
   "cell_type": "code",
   "execution_count": null,
   "id": "ccf84d1c-80b2-4e5c-9ef1-294fc9bbcc76",
   "metadata": {},
   "outputs": [],
   "source": [
    "# thres1 is actually an image. Display it.\n",
    "plt.imshow(thres1, cmap = 'gray')\n",
    "plt.show()"
   ]
  },
  {
   "cell_type": "code",
   "execution_count": null,
   "id": "da9d90c6-adc3-4631-a5be-eeba3c3b8e2e",
   "metadata": {},
   "outputs": [],
   "source": [
    "# Tryout with THRESH_BINARY_INV (threshold binary inverse)\n",
    "ret, thres1 = cv2.threshold(img, 127, 255, cv2.THRESH_BINARY_INV)\n",
    "plt.imshow(thres1, cmap='gray')\n",
    "plt.show()"
   ]
  },
  {
   "cell_type": "code",
   "execution_count": null,
   "id": "609294d2-8f81-45ce-a94f-5c1d335d13e4",
   "metadata": {},
   "outputs": [],
   "source": [
    "# Tryout with THRESH_BINARY_TRUNC (If the value is above threshold, it'll be trunctated to threshold; else keeps the value)\n",
    "ret, thres1 = cv2.threshold(img, 127, 255, cv2.THRESH_TRUNC)\n",
    "plt.imshow(thres1, cmap='gray')\n",
    "plt.show()"
   ]
  },
  {
   "cell_type": "code",
   "execution_count": null,
   "id": "1651c319-d6a5-421f-bbdf-335c9afc286e",
   "metadata": {},
   "outputs": [],
   "source": [
    "# Demonstrating THRESH_TOZERO_INV\n",
    "ret, thres1 = cv2.threshold(img, 127, 255, cv2.THRESH_TOZERO_INV)\n",
    "plt.imshow(thres1, cmap = 'gray')\n",
    "plt.show()"
   ]
  },
  {
   "cell_type": "markdown",
   "id": "3d90e83b-64cf-47ce-8d7a-a89d2965796d",
   "metadata": {},
   "source": [
    "## Let's Try Out Some Real-World Stuff"
   ]
  },
  {
   "cell_type": "code",
   "execution_count": null,
   "id": "36947521-265b-48c9-86fe-97a9fad17508",
   "metadata": {},
   "outputs": [],
   "source": [
    "# Let's display a blurry image first (because of its large side, it's shown blurry on the JL window). To display it properly,\n",
    "# we'll need some other mechanisms\n",
    "img = cv2.imread('../DATA/crossword.jpg', 0)\n",
    "# plt.imshow(img, cmap='gray')\n",
    "# plt.show()"
   ]
  },
  {
   "cell_type": "code",
   "execution_count": null,
   "id": "d76e4310-0337-4a12-86af-98731cdab3ba",
   "metadata": {},
   "outputs": [],
   "source": [
    "# Let's declare the function to display the images filling up the Jupyter Lab (JL) screen\n",
    "def show_pic(img):\n",
    "    fig = plt.figure(figsize=(15,15))\n",
    "    ax = fig.add_subplot(111)\n",
    "    ax.imshow(img, cmap = 'gray')"
   ]
  },
  {
   "cell_type": "code",
   "execution_count": null,
   "id": "84df683b-0a31-4d8f-8362-99fd60fc1ffe",
   "metadata": {
    "scrolled": true
   },
   "outputs": [],
   "source": [
    "show_pic(img)\n",
    "plt.show()"
   ]
  },
  {
   "cell_type": "code",
   "execution_count": null,
   "id": "c1b644ed-dfa3-4ec2-8325-a30f4765ec30",
   "metadata": {
    "scrolled": true
   },
   "outputs": [],
   "source": [
    "# Let's put thresholding to practical use\n",
    "ret, thr1 = cv2.threshold(img, 127, 255, cv2.THRESH_BINARY)\n",
    "show_pic(thr1)\n",
    "plt.show()"
   ]
  },
  {
   "cell_type": "code",
   "execution_count": null,
   "id": "80749a3d-24ec-44b1-9459-519c5eed7688",
   "metadata": {
    "scrolled": true
   },
   "outputs": [],
   "source": [
    "# Apply adaptive thresholding (guessing for 5th and 6th param - 1 based indexing)\n",
    "thr2 = cv2.adaptiveThreshold(img,255,cv2.ADAPTIVE_THRESH_GAUSSIAN_C, cv2.THRESH_BINARY, 11, 8)\n",
    "show_pic(thr2)\n",
    "plt.show()"
   ]
  },
  {
   "cell_type": "code",
   "execution_count": null,
   "id": "1592a144-81c7-4676-b533-5ac1b4f8ef9e",
   "metadata": {},
   "outputs": [],
   "source": [
    "# Blending past 2 images for better results\n",
    "blended = cv2.addWeighted(src1=thr1,alpha=0.6,src2=thr2,beta=0.4,gamma=0)\n",
    "show_pic(blended)\n",
    "plt.show()"
   ]
  }
 ],
 "metadata": {
  "kernelspec": {
   "display_name": "Python 3 (ipykernel)",
   "language": "python",
   "name": "python3"
  },
  "language_info": {
   "codemirror_mode": {
    "name": "ipython",
    "version": 3
   },
   "file_extension": ".py",
   "mimetype": "text/x-python",
   "name": "python",
   "nbconvert_exporter": "python",
   "pygments_lexer": "ipython3",
   "version": "3.11.5"
  }
 },
 "nbformat": 4,
 "nbformat_minor": 5
}
