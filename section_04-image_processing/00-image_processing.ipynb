{
 "cells": [
  {
   "cell_type": "markdown",
   "id": "ecc23a12-b67b-4b8b-8bdf-d85a4ec66c0c",
   "metadata": {},
   "source": [
    "## Color Mapping"
   ]
  },
  {
   "cell_type": "code",
   "execution_count": null,
   "id": "58ceb844-588a-4536-8e66-38119efaa1b0",
   "metadata": {},
   "outputs": [],
   "source": [
    "# Imports\n",
    "import cv2\n",
    "import matplotlib.pyplot as plt\n",
    "%matplotlib inline"
   ]
  },
  {
   "cell_type": "code",
   "execution_count": null,
   "id": "573a7e29-5f70-4247-8ff5-aa9a8ee268b3",
   "metadata": {},
   "outputs": [],
   "source": [
    "# Load image\n",
    "img = cv2.imread('../DATA/00-puppy.jpg')"
   ]
  },
  {
   "cell_type": "code",
   "execution_count": null,
   "id": "f741b954-73dc-41f8-af2b-5cb7af99fd86",
   "metadata": {},
   "outputs": [],
   "source": [
    "# Show the image\n",
    "plt.imshow(img)\n",
    "plt.show()"
   ]
  },
  {
   "cell_type": "code",
   "execution_count": null,
   "id": "bdb2e27a-b559-4d61-9c76-cb4f6026285c",
   "metadata": {},
   "outputs": [],
   "source": [
    "# Convert to actual color\n",
    "img = cv2.cvtColor(img, cv2.COLOR_BGR2RGB)\n",
    "plt.imshow(img)\n",
    "plt.show()"
   ]
  },
  {
   "cell_type": "code",
   "execution_count": null,
   "id": "9e201392-8c06-4b72-a475-6c9bf603e353",
   "metadata": {},
   "outputs": [],
   "source": [
    "# Get the HLS image\n",
    "img = cv2.imread('../DATA/00-puppy.jpg')\n",
    "img = cv2.cvtColor(img, cv2.COLOR_BGR2HLS)\n",
    "plt.imshow(img)\n",
    "plt.show()"
   ]
  },
  {
   "cell_type": "code",
   "execution_count": null,
   "id": "99b46b2e-a9ee-4f39-9011-d0529bea52ee",
   "metadata": {},
   "outputs": [],
   "source": [
    "# Get the HSV image\n",
    "img = cv2.imread('../DATA/00-puppy.jpg')\n",
    "img = cv2.cvtColor(img, cv2.COLOR_BGR2HSV)\n",
    "plt.imshow(img)\n",
    "plt.show()"
   ]
  },
  {
   "cell_type": "markdown",
   "id": "5b406411-7922-450c-80ff-e3865fa66290",
   "metadata": {},
   "source": [
    "## Blending AND Pasting"
   ]
  },
  {
   "cell_type": "code",
   "execution_count": null,
   "id": "60bb88df-1e93-4b62-9191-bc5c330a1f54",
   "metadata": {},
   "outputs": [],
   "source": [
    "# Load two images\n",
    "img1 = cv2.imread('../DATA/dog_backpack.jpg')\n",
    "img1 = cv2.cvtColor(img1, cv2.COLOR_BGR2RGB)\n",
    "img2 = cv2.imread('../DATA/watermark_no_copy.png')\n",
    "img2 = cv2.cvtColor(img2, cv2.COLOR_BGR2RGB)"
   ]
  },
  {
   "cell_type": "code",
   "execution_count": null,
   "id": "45e34de6-d103-41eb-ab30-ad13faf4da96",
   "metadata": {},
   "outputs": [],
   "source": [
    "# Display img1\n",
    "plt.imshow(img1)\n",
    "plt.show()"
   ]
  },
  {
   "cell_type": "code",
   "execution_count": null,
   "id": "3efc0e08-e624-401c-a67c-4f0a4a26eeb5",
   "metadata": {},
   "outputs": [],
   "source": [
    "# Display img2\n",
    "plt.imshow(img2)\n",
    "plt.show()"
   ]
  },
  {
   "cell_type": "code",
   "execution_count": null,
   "id": "54e64daa-ccae-4e50-b787-938a4299b4ea",
   "metadata": {},
   "outputs": [],
   "source": [
    "# Get shape - img1\n",
    "img1.shape"
   ]
  },
  {
   "cell_type": "code",
   "execution_count": null,
   "id": "e295b197-f12c-42b8-b5bf-337f43a67a12",
   "metadata": {},
   "outputs": [],
   "source": [
    "# Get shape - img2\n",
    "img2.shape"
   ]
  },
  {
   "cell_type": "markdown",
   "id": "a858dedb-63ea-4151-90ea-2111f3a0e3e5",
   "metadata": {},
   "source": [
    "### Blending Images of the Same Size"
   ]
  },
  {
   "cell_type": "code",
   "execution_count": null,
   "id": "7386e029-cf6c-4d5c-b29d-87890d1d5589",
   "metadata": {},
   "outputs": [],
   "source": [
    "img1 = cv2.resize(img1,(1200,1200))\n",
    "img2 = cv2.resize(img2,(1200,1200))"
   ]
  },
  {
   "cell_type": "code",
   "execution_count": null,
   "id": "91d6252e-b359-46f5-933d-92729bef6fb1",
   "metadata": {},
   "outputs": [],
   "source": [
    "# Display img1\n",
    "plt.imshow(img1)\n",
    "plt.show()"
   ]
  },
  {
   "cell_type": "code",
   "execution_count": null,
   "id": "433448a3-26c5-4f99-a3c7-a73191f33d7e",
   "metadata": {},
   "outputs": [],
   "source": [
    "# Display img2\n",
    "plt.imshow(img2)\n",
    "plt.show()"
   ]
  },
  {
   "cell_type": "code",
   "execution_count": null,
   "id": "18285a5e-2f65-4ba5-aa90-5ae4a3dd0e1a",
   "metadata": {},
   "outputs": [],
   "source": [
    "# Blending\n",
    "blended = cv2.addWeighted(src1=img1,alpha=0.5,src2=img2,beta=0.5,gamma=0)"
   ]
  },
  {
   "cell_type": "code",
   "execution_count": null,
   "id": "566f7e3d-a44b-4904-b5c7-389a047781ed",
   "metadata": {},
   "outputs": [],
   "source": [
    "# Display the blended image\n",
    "plt.imshow(blended)\n",
    "plt.show()"
   ]
  },
  {
   "cell_type": "markdown",
   "id": "a401748b-d295-4201-8575-c59ae0a13088",
   "metadata": {},
   "source": [
    "### Overlay of a Small Image Over a Larger Image"
   ]
  },
  {
   "cell_type": "code",
   "execution_count": null,
   "id": "2a92ba44-fc0e-4161-b497-32d808cf9228",
   "metadata": {},
   "outputs": [],
   "source": [
    "# Load two images\n",
    "img1 = cv2.imread('../DATA/dog_backpack.jpg')\n",
    "img1 = cv2.cvtColor(img1, cv2.COLOR_BGR2RGB)\n",
    "img2 = cv2.imread('../DATA/watermark_no_copy.png')\n",
    "img2 = cv2.cvtColor(img2, cv2.COLOR_BGR2RGB)"
   ]
  },
  {
   "cell_type": "code",
   "execution_count": null,
   "id": "cf5b53b2-a451-4bfc-a3b7-910504221612",
   "metadata": {},
   "outputs": [],
   "source": [
    "# Resize img2, make it (600,600)\n",
    "img2 = cv2.resize(img2,(600,600))"
   ]
  },
  {
   "cell_type": "code",
   "execution_count": null,
   "id": "171ec352-7b2a-4b68-be44-54f865bc342e",
   "metadata": {},
   "outputs": [],
   "source": [
    "# Display img2\n",
    "plt.imshow(img2)\n",
    "plt.show()"
   ]
  },
  {
   "cell_type": "code",
   "execution_count": null,
   "id": "0975a2c7-8807-4890-b3d7-21f1c0f1a75f",
   "metadata": {},
   "outputs": [],
   "source": [
    "# Display the larger image - img1\n",
    "plt.imshow(img1)\n",
    "plt.show()"
   ]
  },
  {
   "cell_type": "code",
   "execution_count": null,
   "id": "206b2e48-322c-4c42-9fd1-788138a2c29e",
   "metadata": {},
   "outputs": [],
   "source": [
    "# Re-label them\n",
    "l_img = img1\n",
    "s_img = img2"
   ]
  },
  {
   "cell_type": "markdown",
   "id": "405f55b2-83f7-40a9-b494-4e3ebfdd7970",
   "metadata": {},
   "source": [
    "### Blend Together Images of Different Sizes"
   ]
  }
 ],
 "metadata": {
  "kernelspec": {
   "display_name": "Python 3 (ipykernel)",
   "language": "python",
   "name": "python3"
  },
  "language_info": {
   "codemirror_mode": {
    "name": "ipython",
    "version": 3
   },
   "file_extension": ".py",
   "mimetype": "text/x-python",
   "name": "python",
   "nbconvert_exporter": "python",
   "pygments_lexer": "ipython3",
   "version": "3.11.5"
  }
 },
 "nbformat": 4,
 "nbformat_minor": 5
}
