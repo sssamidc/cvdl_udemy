{
 "cells": [
  {
   "cell_type": "markdown",
   "id": "ecc23a12-b67b-4b8b-8bdf-d85a4ec66c0c",
   "metadata": {},
   "source": [
    "## Color Mapping"
   ]
  },
  {
   "cell_type": "code",
   "execution_count": null,
   "id": "58ceb844-588a-4536-8e66-38119efaa1b0",
   "metadata": {},
   "outputs": [],
   "source": [
    "# Imports\n",
    "import cv2\n",
    "import matplotlib.pyplot as plt\n",
    "%matplotlib inline"
   ]
  },
  {
   "cell_type": "code",
   "execution_count": null,
   "id": "573a7e29-5f70-4247-8ff5-aa9a8ee268b3",
   "metadata": {},
   "outputs": [],
   "source": [
    "# Load image\n",
    "img = cv2.imread('../DATA/00-puppy.jpg')"
   ]
  },
  {
   "cell_type": "code",
   "execution_count": null,
   "id": "f741b954-73dc-41f8-af2b-5cb7af99fd86",
   "metadata": {},
   "outputs": [],
   "source": [
    "# Show the image\n",
    "plt.imshow(img)\n",
    "plt.show()"
   ]
  },
  {
   "cell_type": "code",
   "execution_count": null,
   "id": "bdb2e27a-b559-4d61-9c76-cb4f6026285c",
   "metadata": {},
   "outputs": [],
   "source": [
    "# Convert to actual color\n",
    "img = cv2.cvtColor(img, cv2.COLOR_BGR2RGB)\n",
    "plt.imshow(img)\n",
    "plt.show()"
   ]
  },
  {
   "cell_type": "code",
   "execution_count": null,
   "id": "9e201392-8c06-4b72-a475-6c9bf603e353",
   "metadata": {},
   "outputs": [],
   "source": [
    "# Get the HLS image\n",
    "img = cv2.imread('../DATA/00-puppy.jpg')\n",
    "img = cv2.cvtColor(img, cv2.COLOR_BGR2HLS)\n",
    "plt.imshow(img)\n",
    "plt.show()"
   ]
  },
  {
   "cell_type": "code",
   "execution_count": null,
   "id": "99b46b2e-a9ee-4f39-9011-d0529bea52ee",
   "metadata": {},
   "outputs": [],
   "source": [
    "# Get the HSV image\n",
    "img = cv2.imread('../DATA/00-puppy.jpg')\n",
    "img = cv2.cvtColor(img, cv2.COLOR_BGR2HSV)\n",
    "plt.imshow(img)\n",
    "plt.show()"
   ]
  },
  {
   "cell_type": "markdown",
   "id": "5b406411-7922-450c-80ff-e3865fa66290",
   "metadata": {},
   "source": [
    "## Blending AND Pasting"
   ]
  },
  {
   "cell_type": "code",
   "execution_count": null,
   "id": "60bb88df-1e93-4b62-9191-bc5c330a1f54",
   "metadata": {},
   "outputs": [],
   "source": [
    "# Load two images\n",
    "img1 = cv2.imread('../DATA/dog_backpack.jpg')\n",
    "img1 = cv2.cvtColor(img1, cv2.COLOR_BGR2RGB)\n",
    "img2 = cv2.imread('../DATA/watermark_no_copy.png')\n",
    "img2 = cv2.cvtColor(img2, cv2.COLOR_BGR2RGB)"
   ]
  },
  {
   "cell_type": "code",
   "execution_count": null,
   "id": "45e34de6-d103-41eb-ab30-ad13faf4da96",
   "metadata": {},
   "outputs": [],
   "source": [
    "# Display img1\n",
    "plt.imshow(img1)\n",
    "plt.show()"
   ]
  },
  {
   "cell_type": "code",
   "execution_count": null,
   "id": "3efc0e08-e624-401c-a67c-4f0a4a26eeb5",
   "metadata": {},
   "outputs": [],
   "source": [
    "# Display img2\n",
    "plt.imshow(img2)\n",
    "plt.show()"
   ]
  },
  {
   "cell_type": "code",
   "execution_count": null,
   "id": "54e64daa-ccae-4e50-b787-938a4299b4ea",
   "metadata": {},
   "outputs": [],
   "source": [
    "# Get shape - img1\n",
    "img1.shape"
   ]
  },
  {
   "cell_type": "code",
   "execution_count": null,
   "id": "e295b197-f12c-42b8-b5bf-337f43a67a12",
   "metadata": {},
   "outputs": [],
   "source": [
    "# Get shape - img2\n",
    "img2.shape"
   ]
  },
  {
   "cell_type": "markdown",
   "id": "a858dedb-63ea-4151-90ea-2111f3a0e3e5",
   "metadata": {},
   "source": [
    "### Blending Images of the Same Size"
   ]
  },
  {
   "cell_type": "code",
   "execution_count": null,
   "id": "7386e029-cf6c-4d5c-b29d-87890d1d5589",
   "metadata": {},
   "outputs": [],
   "source": [
    "img1 = cv2.resize(img1,(1200,1200))\n",
    "img2 = cv2.resize(img2,(1200,1200))"
   ]
  },
  {
   "cell_type": "code",
   "execution_count": null,
   "id": "91d6252e-b359-46f5-933d-92729bef6fb1",
   "metadata": {},
   "outputs": [],
   "source": [
    "# Display img1\n",
    "plt.imshow(img1)\n",
    "plt.show()"
   ]
  },
  {
   "cell_type": "code",
   "execution_count": null,
   "id": "433448a3-26c5-4f99-a3c7-a73191f33d7e",
   "metadata": {},
   "outputs": [],
   "source": [
    "# Display img2\n",
    "plt.imshow(img2)\n",
    "plt.show()"
   ]
  },
  {
   "cell_type": "code",
   "execution_count": null,
   "id": "18285a5e-2f65-4ba5-aa90-5ae4a3dd0e1a",
   "metadata": {},
   "outputs": [],
   "source": [
    "# Blending\n",
    "blended = cv2.addWeighted(src1=img1,alpha=0.5,src2=img2,beta=0.5,gamma=0)"
   ]
  },
  {
   "cell_type": "code",
   "execution_count": null,
   "id": "566f7e3d-a44b-4904-b5c7-389a047781ed",
   "metadata": {},
   "outputs": [],
   "source": [
    "# Display the blended image\n",
    "plt.imshow(blended)\n",
    "plt.show()"
   ]
  },
  {
   "cell_type": "markdown",
   "id": "a401748b-d295-4201-8575-c59ae0a13088",
   "metadata": {},
   "source": [
    "### Overlay of a Small Image Over a Larger Image"
   ]
  },
  {
   "cell_type": "code",
   "execution_count": null,
   "id": "2a92ba44-fc0e-4161-b497-32d808cf9228",
   "metadata": {},
   "outputs": [],
   "source": [
    "# Load two images\n",
    "img1 = cv2.imread('../DATA/dog_backpack.jpg')\n",
    "img1 = cv2.cvtColor(img1, cv2.COLOR_BGR2RGB)\n",
    "img2 = cv2.imread('../DATA/watermark_no_copy.png')\n",
    "img2 = cv2.cvtColor(img2, cv2.COLOR_BGR2RGB)"
   ]
  },
  {
   "cell_type": "code",
   "execution_count": null,
   "id": "cf5b53b2-a451-4bfc-a3b7-910504221612",
   "metadata": {},
   "outputs": [],
   "source": [
    "# Resize img2, make it (600,600)\n",
    "img2 = cv2.resize(img2,(600,600))"
   ]
  },
  {
   "cell_type": "code",
   "execution_count": null,
   "id": "171ec352-7b2a-4b68-be44-54f865bc342e",
   "metadata": {},
   "outputs": [],
   "source": [
    "# Display img2\n",
    "plt.imshow(img2)\n",
    "plt.show()"
   ]
  },
  {
   "cell_type": "code",
   "execution_count": null,
   "id": "0975a2c7-8807-4890-b3d7-21f1c0f1a75f",
   "metadata": {},
   "outputs": [],
   "source": [
    "# Display the larger image - img1\n",
    "plt.imshow(img1)\n",
    "plt.show()"
   ]
  },
  {
   "cell_type": "code",
   "execution_count": null,
   "id": "206b2e48-322c-4c42-9fd1-788138a2c29e",
   "metadata": {},
   "outputs": [],
   "source": [
    "# Re-label them\n",
    "l_img = img1\n",
    "s_img = img2"
   ]
  },
  {
   "cell_type": "markdown",
   "id": "405f55b2-83f7-40a9-b494-4e3ebfdd7970",
   "metadata": {},
   "source": [
    "### Blend Together Images of Different Sizes"
   ]
  },
  {
   "cell_type": "code",
   "execution_count": null,
   "id": "dc687873-bb15-4482-a3ed-834237fd02f7",
   "metadata": {},
   "outputs": [],
   "source": [
    "x_offset = 0\n",
    "y_offset = 0"
   ]
  },
  {
   "cell_type": "code",
   "execution_count": null,
   "id": "232cc6c4-c1fb-4013-b270-c8f7661ce5f7",
   "metadata": {},
   "outputs": [],
   "source": [
    "x_end = x_offset + s_img.shape[1]\n",
    "y_end = y_offset + s_img.shape[0]"
   ]
  },
  {
   "cell_type": "code",
   "execution_count": null,
   "id": "7cfba50f-0d58-4077-b585-7715de866cbf",
   "metadata": {},
   "outputs": [],
   "source": [
    "# Finally, cover part of the larger image with the smaller image\n",
    "l_img[y_offset:y_end,x_offset:x_end] = s_img"
   ]
  },
  {
   "cell_type": "code",
   "execution_count": null,
   "id": "04ae8272-9d72-4e7a-884a-c03d9648a8c5",
   "metadata": {},
   "outputs": [],
   "source": [
    "# Display the large image now\n",
    "plt.imshow(l_img)\n",
    "plt.show()"
   ]
  },
  {
   "cell_type": "markdown",
   "id": "abb6fd8e-fd0d-4ed8-a80a-3f4d399c94f5",
   "metadata": {},
   "source": [
    "## Masking - Blending Images"
   ]
  },
  {
   "cell_type": "code",
   "execution_count": null,
   "id": "6a2287e3-f09b-4ad2-a8ba-325efe0769bc",
   "metadata": {},
   "outputs": [],
   "source": [
    "# Load two images\n",
    "img1 = cv2.imread('../DATA/dog_backpack.jpg')\n",
    "img1 = cv2.cvtColor(img1, cv2.COLOR_BGR2RGB)\n",
    "img2 = cv2.imread('../DATA/watermark_no_copy.png')\n",
    "img2 = cv2.cvtColor(img2, cv2.COLOR_BGR2RGB)"
   ]
  },
  {
   "cell_type": "code",
   "execution_count": null,
   "id": "fb668ff2-02d7-4714-9107-a9b6ce68eda4",
   "metadata": {},
   "outputs": [],
   "source": [
    "# Resize img2, make it (600,600)\n",
    "img2 = cv2.resize(img2,(600,600))"
   ]
  },
  {
   "cell_type": "code",
   "execution_count": null,
   "id": "bd8cc556-72ee-4e4d-a030-5402f54915ba",
   "metadata": {},
   "outputs": [],
   "source": [
    "# Display img1\n",
    "plt.imshow(img1)\n",
    "plt.show()"
   ]
  },
  {
   "cell_type": "code",
   "execution_count": null,
   "id": "181ac1c9-39ec-4aa8-a956-bd9cce9b00a6",
   "metadata": {},
   "outputs": [],
   "source": [
    "# Display img2\n",
    "plt.imshow(img2)\n",
    "plt.show()"
   ]
  },
  {
   "cell_type": "code",
   "execution_count": null,
   "id": "5cbc1356-bf30-4cda-91ab-df197144fdcc",
   "metadata": {},
   "outputs": [],
   "source": [
    "# Get the shape of img1\n",
    "img1.shape"
   ]
  },
  {
   "cell_type": "markdown",
   "id": "f7370fb6-98d3-43e9-a572-088945b42a64",
   "metadata": {},
   "source": [
    "### Get the ROI dimensions"
   ]
  },
  {
   "cell_type": "code",
   "execution_count": null,
   "id": "785d0240-9e58-4d41-8273-279c60a78625",
   "metadata": {},
   "outputs": [],
   "source": [
    "x_offset = img1.shape[1]//2 - img2.shape[1]//2\n",
    "y_offset = img1.shape[0]//2 - img2.shape[0]//2\n",
    "y_offset, x_offset"
   ]
  },
  {
   "cell_type": "code",
   "execution_count": null,
   "id": "a3d96ede-8caf-4736-8cb8-6c599f1f8db8",
   "metadata": {},
   "outputs": [],
   "source": [
    "# Get the roi and display it\n",
    "roi = img1[y_offset:y_offset + 600, x_offset: x_offset + 600]\n",
    "plt.imshow(roi)\n",
    "plt.show()"
   ]
  },
  {
   "cell_type": "code",
   "execution_count": null,
   "id": "daf0361d-d81f-4bdc-b347-7bdad93d0b8f",
   "metadata": {},
   "outputs": [],
   "source": [
    "# Prepare the grayscale image\n",
    "img2gray = cv2.cvtColor(img2, cv2.COLOR_RGB2GRAY)\n",
    "# Set color mapping to gray scale\n",
    "plt.imshow(img2gray, cmap='gray')\n",
    "plt.show()"
   ]
  },
  {
   "cell_type": "code",
   "execution_count": null,
   "id": "3efe593f-d003-429f-af6c-275cbaea74b3",
   "metadata": {},
   "outputs": [],
   "source": [
    "# Prepare the mask\n",
    "mask_inv = cv2.bitwise_not(img2gray)\n",
    "plt.imshow(mask_inv,cmap='gray')\n",
    "plt.show()"
   ]
  },
  {
   "cell_type": "code",
   "execution_count": null,
   "id": "ef57ad21-50fd-4f9b-b50d-4defd7d4c744",
   "metadata": {},
   "outputs": [],
   "source": [
    "mask_inv.shape"
   ]
  },
  {
   "cell_type": "code",
   "execution_count": null,
   "id": "271b4b95-0d58-4eb6-8c0d-57cfe431229c",
   "metadata": {},
   "outputs": [],
   "source": [
    "import numpy as np"
   ]
  },
  {
   "cell_type": "code",
   "execution_count": null,
   "id": "26cac143-471c-4527-9036-b177aef58804",
   "metadata": {},
   "outputs": [],
   "source": [
    "# Add in the color channels\n",
    "white_bg = np.full(img2.shape, 255, dtype=np.uint8)"
   ]
  },
  {
   "cell_type": "code",
   "execution_count": null,
   "id": "dfb7e1d5-66a1-40c9-911c-efba208ab000",
   "metadata": {},
   "outputs": [],
   "source": [
    "# white_bg"
   ]
  },
  {
   "cell_type": "code",
   "execution_count": null,
   "id": "705cdf73-185a-4fa4-ab62-a62faf8b6948",
   "metadata": {},
   "outputs": [],
   "source": [
    "# Bitwise OR\n",
    "bk = cv2.bitwise_or(white_bg, white_bg, mask=mask_inv)"
   ]
  },
  {
   "cell_type": "code",
   "execution_count": null,
   "id": "db97c2df-274c-4a12-9c89-6d35003d1cd2",
   "metadata": {},
   "outputs": [],
   "source": [
    "bk.shape"
   ]
  },
  {
   "cell_type": "code",
   "execution_count": null,
   "id": "39a786dc-ee22-4660-bbc0-6816877c8232",
   "metadata": {},
   "outputs": [],
   "source": [
    "plt.imshow(bk)\n",
    "plt.show()"
   ]
  },
  {
   "cell_type": "code",
   "execution_count": null,
   "id": "16572d82-a907-4c44-878e-f57f71746916",
   "metadata": {},
   "outputs": [],
   "source": [
    "# Create foreground\n",
    "fg = cv2.bitwise_or(img2, img2, mask=mask_inv)"
   ]
  },
  {
   "cell_type": "code",
   "execution_count": null,
   "id": "7ea45664-2572-402a-aa42-3bdc39dd0538",
   "metadata": {},
   "outputs": [],
   "source": [
    "# Display it\n",
    "plt.imshow(fg)\n",
    "plt.show()"
   ]
  },
  {
   "cell_type": "code",
   "execution_count": null,
   "id": "4231cfee-d73c-45ce-8158-7d9961437af9",
   "metadata": {},
   "outputs": [],
   "source": [
    "# Final region-of-interest\n",
    "final_roi = cv2.bitwise_or(roi, fg)"
   ]
  },
  {
   "cell_type": "code",
   "execution_count": null,
   "id": "80706c26-952a-4574-93ed-782993a9a9f1",
   "metadata": {},
   "outputs": [],
   "source": [
    "# Display the modified RoI\n",
    "plt.imshow(final_roi)\n",
    "plt.show()"
   ]
  },
  {
   "cell_type": "code",
   "execution_count": null,
   "id": "b621ac91-4d7f-4cbc-8aab-87186f38e187",
   "metadata": {},
   "outputs": [],
   "source": [
    "large_img = img1\n",
    "small_img = final_roi"
   ]
  },
  {
   "cell_type": "code",
   "execution_count": null,
   "id": "a06f054a-e59b-409a-8aa2-079977c339fb",
   "metadata": {},
   "outputs": [],
   "source": [
    "large_img[y_offset:y_offset + small_img.shape[0], x_offset: x_offset + small_img.shape[1]] = small_img"
   ]
  },
  {
   "cell_type": "code",
   "execution_count": null,
   "id": "9b722fe6-4b5f-4b1d-a530-ce8a9301ba92",
   "metadata": {},
   "outputs": [],
   "source": [
    "# Display the final image\n",
    "plt.imshow(large_img)\n",
    "plt.show()"
   ]
  }
 ],
 "metadata": {
  "kernelspec": {
   "display_name": "Python 3 (ipykernel)",
   "language": "python",
   "name": "python3"
  },
  "language_info": {
   "codemirror_mode": {
    "name": "ipython",
    "version": 3
   },
   "file_extension": ".py",
   "mimetype": "text/x-python",
   "name": "python",
   "nbconvert_exporter": "python",
   "pygments_lexer": "ipython3",
   "version": "3.11.5"
  }
 },
 "nbformat": 4,
 "nbformat_minor": 5
}
