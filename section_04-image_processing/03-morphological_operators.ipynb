{
 "cells": [
  {
   "cell_type": "code",
   "execution_count": null,
   "id": "f979e0ec-6389-4ad9-b671-96a5c64f35ad",
   "metadata": {},
   "outputs": [],
   "source": [
    "import cv2\n",
    "import numpy as np\n",
    "import matplotlib.pyplot as plt\n",
    "%matplotlib inline"
   ]
  },
  {
   "cell_type": "code",
   "execution_count": null,
   "id": "8b279e94-c21f-4e37-802d-d141e505ccf0",
   "metadata": {},
   "outputs": [],
   "source": [
    "# Load image - white background\n",
    "def load_img():\n",
    "    blank_img = np.zeros((600,600))\n",
    "    font = cv2.FONT_HERSHEY_SIMPLEX\n",
    "    cv2.putText(blank_img,text='ABCDE',org=(50,300),fontFace=font,fontScale=5,color=(255,255,255),thickness=20)\n",
    "    return blank_img"
   ]
  },
  {
   "cell_type": "code",
   "execution_count": null,
   "id": "cb23897b-062f-4261-9adc-45598ccad6b7",
   "metadata": {},
   "outputs": [],
   "source": [
    "# Display image\n",
    "def display_img(img):\n",
    "    fig = plt.figure(figsize=(12,10))\n",
    "    ax = fig.add_subplot(111)\n",
    "    ax.imshow(img,cmap='gray')\n",
    "    plt.show()"
   ]
  },
  {
   "cell_type": "code",
   "execution_count": null,
   "id": "b4996ebc-b8e7-4ca1-b470-939e1333221f",
   "metadata": {
    "scrolled": true
   },
   "outputs": [],
   "source": [
    "# Load up an image and display it\n",
    "img = load_img()\n",
    "display_img(img)"
   ]
  },
  {
   "cell_type": "markdown",
   "id": "a36f023d-474c-4365-984a-042c06c49408",
   "metadata": {},
   "source": [
    "## Erosion"
   ]
  },
  {
   "cell_type": "code",
   "execution_count": null,
   "id": "0ba3a0f5-c32c-4037-8308-e4a05f9ab66c",
   "metadata": {},
   "outputs": [],
   "source": [
    "kernel = np.ones((4,4),dtype=np.uint8)"
   ]
  },
  {
   "cell_type": "code",
   "execution_count": null,
   "id": "f0451d69-e73e-49ab-8f18-03763a7e3c60",
   "metadata": {},
   "outputs": [],
   "source": [
    "kernel"
   ]
  },
  {
   "cell_type": "code",
   "execution_count": null,
   "id": "a3b3ab38-7ffd-4d11-922c-55c73b9b1a20",
   "metadata": {},
   "outputs": [],
   "source": [
    "result = cv2.erode(img,kernel,iterations=4)"
   ]
  },
  {
   "cell_type": "code",
   "execution_count": null,
   "id": "61b85077-21d6-4faf-9a81-f8084070f9ab",
   "metadata": {
    "scrolled": true
   },
   "outputs": [],
   "source": [
    "display_img(result)"
   ]
  },
  {
   "cell_type": "markdown",
   "id": "f28d61d2-e16f-41a6-be64-5e4330355d33",
   "metadata": {},
   "source": [
    "## Opening (Erosion followed by Dilation)"
   ]
  },
  {
   "cell_type": "code",
   "execution_count": null,
   "id": "b2bf26fa-f6ac-47cd-af2f-2cce8ca9576f",
   "metadata": {},
   "outputs": [],
   "source": [
    "# Load up the image again\n",
    "img = load_img()"
   ]
  },
  {
   "cell_type": "code",
   "execution_count": null,
   "id": "374e420c-ff3e-4ea8-b649-d9d2da49a7f8",
   "metadata": {},
   "outputs": [],
   "source": [
    "# Introuduce some white noise\n",
    "white_noise = np.random.randint(low=0,high=2,size=(600,600))"
   ]
  },
  {
   "cell_type": "code",
   "execution_count": null,
   "id": "5b4529dd-35c0-4c35-b85b-94ac804e5b71",
   "metadata": {
    "scrolled": true
   },
   "outputs": [],
   "source": [
    "white_noise"
   ]
  },
  {
   "cell_type": "code",
   "execution_count": null,
   "id": "0d98133e-2374-4b05-b559-e0dad04f4b68",
   "metadata": {
    "scrolled": true
   },
   "outputs": [],
   "source": [
    "# Display white_noise\n",
    "display_img(white_noise)"
   ]
  },
  {
   "cell_type": "code",
   "execution_count": null,
   "id": "86f3c596-e08d-44f3-8d63-4092287a5f73",
   "metadata": {},
   "outputs": [],
   "source": [
    "img.max()"
   ]
  },
  {
   "cell_type": "code",
   "execution_count": null,
   "id": "02ea7ee3-8077-459f-91ef-00b2f7f3fbbd",
   "metadata": {},
   "outputs": [],
   "source": [
    "white_noise = white_noise * 255"
   ]
  },
  {
   "cell_type": "code",
   "execution_count": null,
   "id": "f1a166de-bb12-4d15-ba5c-b61f6d330100",
   "metadata": {},
   "outputs": [],
   "source": [
    "white_noise"
   ]
  },
  {
   "cell_type": "code",
   "execution_count": null,
   "id": "03552e8f-2b4a-455e-8fc0-2479279bb224",
   "metadata": {
    "scrolled": true
   },
   "outputs": [],
   "source": [
    "# Noise image\n",
    "noise_img = white_noise + img\n",
    "display_img(noise_img)"
   ]
  },
  {
   "cell_type": "code",
   "execution_count": null,
   "id": "5731e436-d9c2-4d9e-b365-da9f3ba5b2a5",
   "metadata": {
    "scrolled": true
   },
   "outputs": [],
   "source": [
    "# opening - To get rid of morphological noise\n",
    "opening = cv2.morphologyEx(noise_img,cv2.MORPH_OPEN,kernel)\n",
    "display_img(opening)"
   ]
  },
  {
   "cell_type": "code",
   "execution_count": null,
   "id": "8fc88143-9169-47c6-93bd-7f2fea2fff07",
   "metadata": {
    "scrolled": true
   },
   "outputs": [],
   "source": [
    "display_img(img)"
   ]
  },
  {
   "cell_type": "markdown",
   "id": "38408e18-4169-45b0-8c9b-ab839d40a89f",
   "metadata": {},
   "source": [
    "## Removal of Foreground Noise"
   ]
  },
  {
   "cell_type": "code",
   "execution_count": null,
   "id": "d3b3b445-b5de-43a2-99c3-052013db9d6a",
   "metadata": {},
   "outputs": [],
   "source": [
    "black_noise = np.random.randint(low=0,high=2,size=(600,600))\n",
    "black_noise"
   ]
  },
  {
   "cell_type": "code",
   "execution_count": null,
   "id": "831a4443-d5be-4228-ae9d-158c7de50821",
   "metadata": {
    "scrolled": true
   },
   "outputs": [],
   "source": [
    "black_noise_img = img + black_noise\n",
    "display_img(black_noise_img)"
   ]
  }
 ],
 "metadata": {
  "kernelspec": {
   "display_name": "Python 3 (ipykernel)",
   "language": "python",
   "name": "python3"
  },
  "language_info": {
   "codemirror_mode": {
    "name": "ipython",
    "version": 3
   },
   "file_extension": ".py",
   "mimetype": "text/x-python",
   "name": "python",
   "nbconvert_exporter": "python",
   "pygments_lexer": "ipython3",
   "version": "3.11.5"
  }
 },
 "nbformat": 4,
 "nbformat_minor": 5
}
