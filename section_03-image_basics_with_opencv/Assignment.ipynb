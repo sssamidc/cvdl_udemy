{
 "cells": [
  {
   "cell_type": "code",
   "execution_count": null,
   "id": "9cac828c-b1e9-4db2-8770-b6752d5124bb",
   "metadata": {},
   "outputs": [],
   "source": [
    "# Imports\n",
    "import numpy as np\n",
    "import matplotlib.pyplot as plt\n",
    "# Only for Jupyter Lab\n",
    "%matplotlib inline"
   ]
  },
  {
   "cell_type": "code",
   "execution_count": null,
   "id": "d03b1125-8a6e-4450-882e-f09977a5299c",
   "metadata": {},
   "outputs": [],
   "source": [
    "import cv2"
   ]
  },
  {
   "cell_type": "markdown",
   "id": "f455d78b-db5b-4325-a1bd-311672ed198f",
   "metadata": {},
   "source": [
    "## TASK: Open the dog_backpack.jpg image from the DATA folder and display it in the notebook. Make sure to correct for the RGB order."
   ]
  },
  {
   "cell_type": "code",
   "execution_count": null,
   "id": "d77aaaf1-3047-4f4d-a0fb-2a13dddd9dc3",
   "metadata": {},
   "outputs": [],
   "source": [
    "# Read the image\n",
    "img = cv2.imread(\"../CourseMaterial/Computer-Vision-with-Python/DATA/dog_backpack.jpg\")\n",
    "type(img)"
   ]
  },
  {
   "cell_type": "code",
   "execution_count": null,
   "id": "6bfd1b28-b6c6-4ab6-afe9-22278a0bcb47",
   "metadata": {},
   "outputs": [],
   "source": [
    "# Display the image using matplotlib\n",
    "plt.imshow(img)\n",
    "plt.show()"
   ]
  },
  {
   "cell_type": "code",
   "execution_count": null,
   "id": "3cedb525-67f1-4dc1-b82f-1d3464a5fb2e",
   "metadata": {},
   "outputs": [],
   "source": [
    "# Get the shap\n",
    "img.shape"
   ]
  },
  {
   "cell_type": "code",
   "execution_count": null,
   "id": "95511718-607d-4dd1-90ea-702a1004f746",
   "metadata": {},
   "outputs": [],
   "source": [
    "# Fix image colors\n",
    "fix_img = cv2.cvtColor(img, cv2.COLOR_BGR2RGB)\n",
    "# Display the fixed image\n",
    "plt.imshow(fix_img)\n",
    "plt.show()"
   ]
  },
  {
   "cell_type": "markdown",
   "id": "5e945bfe-6058-482d-a2a1-3cf4a85832e7",
   "metadata": {},
   "source": [
    "## TASK: Flip the image upside down and display it in the notebook."
   ]
  },
  {
   "cell_type": "code",
   "execution_count": null,
   "id": "9d5376a9-183a-4345-a51d-9e55a7e75be4",
   "metadata": {},
   "outputs": [],
   "source": [
    "# Flip the image\n",
    "f_img = cv2.flip(fix_img, 0)\n",
    "# Diplay the flipped image\n",
    "plt.imshow(f_img)\n",
    "plt.show()"
   ]
  },
  {
   "cell_type": "markdown",
   "id": "3b7e3ec8-81b6-4027-a9d6-578eacfcc0f0",
   "metadata": {},
   "source": [
    "## TASK: Draw an empty RED rectangle around the dogs face and display the image in the notebook."
   ]
  },
  {
   "cell_type": "code",
   "execution_count": null,
   "id": "4a00e925-78d6-4528-87e1-52326db9e9f5",
   "metadata": {},
   "outputs": [],
   "source": [
    "l_img = cv2.imread(\"../CourseMaterial/Computer-Vision-with-Python/DATA/dog_backpack.jpg\")\n",
    "c_l_img = cv2.cvtColor(l_img, cv2.COLOR_BGR2RGB)\n",
    "plt.imshow(c_l_img)\n",
    "plt.show()"
   ]
  },
  {
   "cell_type": "code",
   "execution_count": null,
   "id": "f3111b0d-9197-4937-9ae1-837257cdf058",
   "metadata": {},
   "outputs": [],
   "source": [
    "# Time to draw the rectangle\n",
    "cv2.rectangle(c_l_img,(200,780),(650,370),(255,0,0),thickness=3)"
   ]
  },
  {
   "cell_type": "code",
   "execution_count": null,
   "id": "12c8e843-dad8-47ff-9486-1a2bea25bf91",
   "metadata": {},
   "outputs": [],
   "source": [
    "# Display the image after drawing the rectangle\n",
    "plt.imshow(c_l_img)\n",
    "plt.show()"
   ]
  },
  {
   "cell_type": "markdown",
   "id": "1ed6ff51-5f9f-4d6a-bbd9-b1d905e95626",
   "metadata": {},
   "source": [
    "## TASK: Draw a BLUE TRIANGLE in the middle of the image. The size and angle is up to you, but it should be a triangle (three sides) in any orientation."
   ]
  },
  {
   "cell_type": "code",
   "execution_count": null,
   "id": "337940f4-a081-4bdf-b3b3-0bf3c1b8b261",
   "metadata": {
    "scrolled": true
   },
   "outputs": [],
   "source": [
    "## (200,780),(650,370)\n",
    "cv2.line(c_l_img,(200,780),(425,370),color=(0,0,255),thickness=7)\n",
    "cv2.line(c_l_img,(650,780),(425,370),color=(0,0,255),thickness=7)\n",
    "cv2.line(c_l_img,(200,780),(650,780),color=(0,0,255),thickness=7)\n",
    "plt.imshow(c_l_img)\n",
    "plt.show()"
   ]
  },
  {
   "cell_type": "markdown",
   "id": "f713932a-6b09-40c6-979b-3e90db349165",
   "metadata": {},
   "source": [
    "## BONUS TASK. Can you figure our how to fill in this triangle? It requires a different function that we didn't show in the lecture! See if you can use google search to find it."
   ]
  },
  {
   "cell_type": "code",
   "execution_count": null,
   "id": "e148e3c7-b552-4648-837e-5aea792797b7",
   "metadata": {},
   "outputs": [],
   "source": [
    "# Fill up the np array\n",
    "triangle_cnt = np.array([[200, 780], [425, 370], [650, 780]])\n",
    "cv2.drawContours(c_l_img, [triangle_cnt], 0, (0, 0, 255), -1)"
   ]
  },
  {
   "cell_type": "code",
   "execution_count": null,
   "id": "0fcdb479-cb2d-43ba-86cc-cc39a8c3af25",
   "metadata": {},
   "outputs": [],
   "source": [
    "# Display the image\n",
    "plt.imshow(c_l_img)\n",
    "plt.show()"
   ]
  }
 ],
 "metadata": {
  "kernelspec": {
   "display_name": "Python 3 (ipykernel)",
   "language": "python",
   "name": "python3"
  },
  "language_info": {
   "codemirror_mode": {
    "name": "ipython",
    "version": 3
   },
   "file_extension": ".py",
   "mimetype": "text/x-python",
   "name": "python",
   "nbconvert_exporter": "python",
   "pygments_lexer": "ipython3",
   "version": "3.11.5"
  }
 },
 "nbformat": 4,
 "nbformat_minor": 5
}
